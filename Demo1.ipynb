{
 "cells": [
  {
   "cell_type": "code",
   "execution_count": 15,
   "source": [
    "import seaborn as sns\r\n",
    "planets = sns.load_dataset('planets')\r\n",
    "# planets.shape\r\n",
    "# planets.head()\r\n",
    "# hello\r\n",
    "# this is a git pull Request\r\n",
    "planets.groupby('method')['orbital_period'].median()"
   ],
   "outputs": [
    {
     "output_type": "execute_result",
     "data": {
      "text/plain": [
       "method\n",
       "Astrometry                         631.180000\n",
       "Eclipse Timing Variations         4343.500000\n",
       "Imaging                          27500.000000\n",
       "Microlensing                      3300.000000\n",
       "Orbital Brightness Modulation        0.342887\n",
       "Pulsar Timing                       66.541900\n",
       "Pulsation Timing Variations       1170.000000\n",
       "Radial Velocity                    360.200000\n",
       "Transit                              5.714932\n",
       "Transit Timing Variations           57.011000\n",
       "Name: orbital_period, dtype: float64"
      ]
     },
     "metadata": {},
     "execution_count": 15
    }
   ],
   "metadata": {}
  },
  {
   "cell_type": "code",
   "execution_count": 8,
   "source": [
    "import pandas as pd\r\n",
    "import numpy as np\r\n",
    "data = pd.Series([\"a\",\"b\",\"a\",\"b\"],index=[1,2,5,5])\r\n",
    "data.groupby()"
   ],
   "outputs": [
    {
     "output_type": "execute_result",
     "data": {
      "text/plain": [
       "1    a\n",
       "2    b\n",
       "5    a\n",
       "5    b\n",
       "dtype: object"
      ]
     },
     "metadata": {},
     "execution_count": 8
    }
   ],
   "metadata": {}
  },
  {
   "cell_type": "code",
   "execution_count": 3,
   "source": [
    "data = pd.Series([\"a\",\"b\",\"a\",\"b\"],index=[1,2,5,5])\r\n",
    "data\r\n",
    "# data.loc[1:4]\r\n",
    "area = pd.Series({'California':45454, 'texas':5464,\"buffalo\":545})\r\n",
    "pop = pd.Series({'California':9989898,'texas':4998979,\"buffalo\": 4645464})\r\n",
    "data = pd.DataFrame({'area':area,'pop': pop})\r\n",
    "data['density']= data['pop']/data['area']\r\n",
    "data.iloc[1:3,1:3]\r\n",
    "data.iloc[0,2]\r\n",
    "data.loc[data.density>300,['pop','density']]\r\n",
    "x=[[1,2],[3,4]]\r\n",
    "np.concatenate([x,x], axis=1)"
   ],
   "outputs": [
    {
     "output_type": "execute_result",
     "data": {
      "text/plain": [
       "array([[1, 2, 1, 2],\n",
       "       [3, 4, 3, 4]])"
      ]
     },
     "metadata": {},
     "execution_count": 3
    }
   ],
   "metadata": {}
  }
 ],
 "metadata": {
  "orig_nbformat": 4,
  "language_info": {
   "name": "python",
   "version": "3.7.6",
   "mimetype": "text/x-python",
   "codemirror_mode": {
    "name": "ipython",
    "version": 3
   },
   "pygments_lexer": "ipython3",
   "nbconvert_exporter": "python",
   "file_extension": ".py"
  },
  "kernelspec": {
   "name": "python3",
   "display_name": "Python 3.7.6 64-bit ('base': conda)"
  },
  "interpreter": {
   "hash": "dcb3a64d7dbbd2941b58ef80585252fda21425e20ebf5a367cb021395f56b594"
  }
 },
 "nbformat": 4,
 "nbformat_minor": 2
}